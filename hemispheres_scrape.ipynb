{
 "cells": [
  {
   "cell_type": "code",
   "execution_count": 19,
   "metadata": {},
   "outputs": [],
   "source": [
    "from splinter import Browser\n",
    "from bs4 import BeautifulSoup\n",
    "import pandas as pd\n",
    "import datetime as dt"
   ]
  },
  {
   "cell_type": "code",
   "execution_count": 20,
   "metadata": {},
   "outputs": [],
   "source": [
    "executable_path ={'executable_path':'chromedriver'}\n",
    "browser = Browser('chrome',**executable_path)"
   ]
  },
  {
   "cell_type": "code",
   "execution_count": 21,
   "metadata": {},
   "outputs": [],
   "source": [
    "url = 'https://astrogeology.usgs.gov/search/results?q=hemisphere+enhanced&k1=target&v1=Mars'\n",
    "browser.visit(url)\n",
    "hemisphere_data=[];\n",
    "hemisphere_urls=[];"
   ]
  },
  {
   "cell_type": "code",
   "execution_count": 22,
   "metadata": {},
   "outputs": [],
   "source": [
    "# Find and click the first hemisphere image\n",
    "browser.is_element_present_by_text('Cerberus Hemisphere Enhanced', wait_time=1)\n",
    "hem1_elem = browser.links.find_by_partial_text('Cerberus Hemisphere Enhanced')\n",
    "hem1_elem.click()\n",
    "\n",
    "\n",
    "\n",
    "\n",
    "# Find the more info button and click that\n",
    "#     browser.is_element_present_by_text('more info', wait_time=1)\n",
    "#     more_info_elem = browser.links.find_by_partial_text('more info')\n",
    "#     more_info_elem.click()\n",
    "\n",
    "\n",
    "# # Parse the resulting html with soup\n",
    "#     html = browser.html\n",
    "#     img_soup = BeautifulSoup(html, 'html.parser')\n",
    "\n",
    "\n",
    "# # Find the relative image url\n",
    "#     img_url_rel = img_soup.select_one('figure.lede a img').get(\"src\")\n",
    "#     img_url_rel\n",
    "\n",
    "    \n",
    "#     try:\n",
    "#    # find the relative image url\n",
    "#        img_url_rel = img_soup.select_one('figure.lede a img').get(\"src\")\n",
    "\n",
    "#     except AttributeError:\n",
    "#         return None\n",
    "# # Use the base URL to create an absolute URL\n",
    "# #use the img url and plug it into a link\n",
    "#     img_url = f'https://www.jpl.nasa.gov{img_url_rel}'\n",
    "#     return img_url_rel, img_url\n"
   ]
  },
  {
   "cell_type": "code",
   "execution_count": 23,
   "metadata": {},
   "outputs": [
    {
     "data": {
      "text/plain": [
       "'Cerberus Hemisphere Enhanced'"
      ]
     },
     "execution_count": 23,
     "metadata": {},
     "output_type": "execute_result"
    }
   ],
   "source": [
    "#parse and collect title and image for hem1\n",
    "html = browser.html\n",
    "hem1_page = BeautifulSoup(html, 'html.parser')\n",
    "hem1_title = hem1_page.find(\"h2\", class_='title').get_text()\n",
    "hem1_title"
   ]
  },
  {
   "cell_type": "code",
   "execution_count": 24,
   "metadata": {},
   "outputs": [
    {
     "data": {
      "text/plain": [
       "[{'title': 'Cerberus Hemisphere Enhanced',\n",
       "  'image_url': 'https://astropedia.astrogeology.usgs.gov/download/Mars/Viking/cerberus_enhanced.tif/full.jpg'}]"
      ]
     },
     "execution_count": 24,
     "metadata": {},
     "output_type": "execute_result"
    }
   ],
   "source": [
    "hem1_image = hem1_page.select_one('div.downloads a').get(\"href\")\n",
    "hemisphere_urls.append(hem1_image)\n",
    "hem1_data={\"title\":hem1_title, \"image_url\": hem1_image}\n",
    "hemisphere_data.append(hem1_data)\n",
    "hemisphere_data"
   ]
  },
  {
   "cell_type": "code",
   "execution_count": 25,
   "metadata": {},
   "outputs": [],
   "source": [
    "#Second hemisphere\n",
    "url = 'https://astrogeology.usgs.gov/search/results?q=hemisphere+enhanced&k1=target&v1=Mars'\n",
    "browser.visit(url)\n",
    "# Find second hemisphere image and click it \n",
    "browser.is_element_present_by_text('Schiaparelli Hemisphere Enhanced', wait_time=1)\n",
    "hem2_elem = browser.links.find_by_partial_text('Schiaparelli Hemisphere Enhanced')\n",
    "hem2_elem.click()"
   ]
  },
  {
   "cell_type": "code",
   "execution_count": 26,
   "metadata": {},
   "outputs": [
    {
     "data": {
      "text/plain": [
       "'Schiaparelli Hemisphere Enhanced'"
      ]
     },
     "execution_count": 26,
     "metadata": {},
     "output_type": "execute_result"
    }
   ],
   "source": [
    "#Collect title and image for hem2\n",
    "html = browser.html\n",
    "hem2_page = BeautifulSoup(html, 'html.parser')\n",
    "hem2_title = hem2_page.find(\"h2\", class_='title').get_text()\n",
    "hem2_title"
   ]
  },
  {
   "cell_type": "code",
   "execution_count": 28,
   "metadata": {},
   "outputs": [
    {
     "data": {
      "text/plain": [
       "[{'title': 'Cerberus Hemisphere Enhanced',\n",
       "  'image_url': 'https://astropedia.astrogeology.usgs.gov/download/Mars/Viking/cerberus_enhanced.tif/full.jpg'},\n",
       " {'title': 'Schiaparelli Hemisphere Enhanced',\n",
       "  'image_url': 'https://astropedia.astrogeology.usgs.gov/download/Mars/Viking/schiaparelli_enhanced.tif/full.jpg'},\n",
       " {'title': 'Schiaparelli Hemisphere Enhanced',\n",
       "  'image_url': 'https://astropedia.astrogeology.usgs.gov/download/Mars/Viking/schiaparelli_enhanced.tif/full.jpg'}]"
      ]
     },
     "execution_count": 28,
     "metadata": {},
     "output_type": "execute_result"
    }
   ],
   "source": [
    "hem2_image = hem2_page.select_one('div.downloads a').get(\"href\")\n",
    "hemisphere_urls.append(hem2_image)\n",
    "hem2_data={\"title\":hem2_title, \"image_url\": hem2_image}\n",
    "hemisphere_data.append(hem2_data)\n",
    "hemisphere_data"
   ]
  },
  {
   "cell_type": "code",
   "execution_count": 29,
   "metadata": {},
   "outputs": [],
   "source": [
    "#repeat for third and fourth hemispheres\n",
    "#Third hemisphere\n",
    "url = 'https://astrogeology.usgs.gov/search/results?q=hemisphere+enhanced&k1=target&v1=Mars'\n",
    "browser.visit(url)\n",
    "# Find second hemisphere image and click it \n",
    "browser.is_element_present_by_text('Syrtis Major Hemisphere Enhanced', wait_time=1)\n",
    "hem3_elem = browser.links.find_by_partial_text('Syrtis Major Hemisphere Enhanced')\n",
    "hem3_elem.click()"
   ]
  },
  {
   "cell_type": "code",
   "execution_count": 30,
   "metadata": {},
   "outputs": [
    {
     "data": {
      "text/plain": [
       "'Syrtis Major Hemisphere Enhanced'"
      ]
     },
     "execution_count": 30,
     "metadata": {},
     "output_type": "execute_result"
    }
   ],
   "source": [
    "#Collect title and image for hem3\n",
    "html = browser.html\n",
    "hem3_page = BeautifulSoup(html, 'html.parser')\n",
    "hem3_title = hem3_page.find(\"h2\", class_='title').get_text()\n",
    "hem3_title"
   ]
  },
  {
   "cell_type": "code",
   "execution_count": 31,
   "metadata": {},
   "outputs": [
    {
     "data": {
      "text/plain": [
       "[{'title': 'Cerberus Hemisphere Enhanced',\n",
       "  'image_url': 'https://astropedia.astrogeology.usgs.gov/download/Mars/Viking/cerberus_enhanced.tif/full.jpg'},\n",
       " {'title': 'Schiaparelli Hemisphere Enhanced',\n",
       "  'image_url': 'https://astropedia.astrogeology.usgs.gov/download/Mars/Viking/schiaparelli_enhanced.tif/full.jpg'},\n",
       " {'title': 'Schiaparelli Hemisphere Enhanced',\n",
       "  'image_url': 'https://astropedia.astrogeology.usgs.gov/download/Mars/Viking/schiaparelli_enhanced.tif/full.jpg'},\n",
       " {'title': 'Syrtis Major Hemisphere Enhanced',\n",
       "  'image_url': 'https://astropedia.astrogeology.usgs.gov/download/Mars/Viking/syrtis_major_enhanced.tif/full.jpg'}]"
      ]
     },
     "execution_count": 31,
     "metadata": {},
     "output_type": "execute_result"
    }
   ],
   "source": [
    "hem3_image = hem3_page.select_one('div.downloads a').get(\"href\")\n",
    "hemisphere_urls.append(hem3_image)\n",
    "hem3_data={\"title\":hem3_title, \"image_url\": hem3_image}\n",
    "hemisphere_data.append(hem3_data)\n",
    "hemisphere_data"
   ]
  },
  {
   "cell_type": "code",
   "execution_count": 32,
   "metadata": {},
   "outputs": [],
   "source": [
    "#Fourth hemisphere\n",
    "url = 'https://astrogeology.usgs.gov/search/results?q=hemisphere+enhanced&k1=target&v1=Mars'\n",
    "browser.visit(url)\n",
    "# Find fourth hemisphere image and click it \n",
    "browser.is_element_present_by_text('Valles Marineris Hemisphere Enhanced', wait_time=1)\n",
    "hem4_elem = browser.links.find_by_partial_text('Valles Marineris Hemisphere Enhanced')\n",
    "hem4_elem.click()"
   ]
  },
  {
   "cell_type": "code",
   "execution_count": 33,
   "metadata": {},
   "outputs": [
    {
     "data": {
      "text/plain": [
       "'Valles Marineris Hemisphere Enhanced'"
      ]
     },
     "execution_count": 33,
     "metadata": {},
     "output_type": "execute_result"
    }
   ],
   "source": [
    "#Collect title and image for hem4\n",
    "html = browser.html\n",
    "hem4_page = BeautifulSoup(html, 'html.parser')\n",
    "hem4_title = hem4_page.find(\"h2\", class_='title').get_text()\n",
    "hem4_title"
   ]
  },
  {
   "cell_type": "code",
   "execution_count": 34,
   "metadata": {},
   "outputs": [],
   "source": [
    "hem4_image = hem4_page.select_one('div.downloads a').get(\"href\")\n",
    "hemisphere_urls.append(hem4_image)\n",
    "hem4_data={\"title\":hem4_title, \"image_url\": hem4_image}\n",
    "hemisphere_data.append(hem4_data)"
   ]
  },
  {
   "cell_type": "code",
   "execution_count": 35,
   "metadata": {},
   "outputs": [
    {
     "data": {
      "text/plain": [
       "[{'title': 'Cerberus Hemisphere Enhanced',\n",
       "  'image_url': 'https://astropedia.astrogeology.usgs.gov/download/Mars/Viking/cerberus_enhanced.tif/full.jpg'},\n",
       " {'title': 'Schiaparelli Hemisphere Enhanced',\n",
       "  'image_url': 'https://astropedia.astrogeology.usgs.gov/download/Mars/Viking/schiaparelli_enhanced.tif/full.jpg'},\n",
       " {'title': 'Schiaparelli Hemisphere Enhanced',\n",
       "  'image_url': 'https://astropedia.astrogeology.usgs.gov/download/Mars/Viking/schiaparelli_enhanced.tif/full.jpg'},\n",
       " {'title': 'Syrtis Major Hemisphere Enhanced',\n",
       "  'image_url': 'https://astropedia.astrogeology.usgs.gov/download/Mars/Viking/syrtis_major_enhanced.tif/full.jpg'},\n",
       " {'title': 'Valles Marineris Hemisphere Enhanced',\n",
       "  'image_url': 'https://astropedia.astrogeology.usgs.gov/download/Mars/Viking/valles_marineris_enhanced.tif/full.jpg'}]"
      ]
     },
     "execution_count": 35,
     "metadata": {},
     "output_type": "execute_result"
    }
   ],
   "source": [
    "hemisphere_data"
   ]
  },
  {
   "cell_type": "code",
   "execution_count": 36,
   "metadata": {},
   "outputs": [
    {
     "data": {
      "text/plain": [
       "['https://astropedia.astrogeology.usgs.gov/download/Mars/Viking/cerberus_enhanced.tif/full.jpg',\n",
       " 'https://astropedia.astrogeology.usgs.gov/download/Mars/Viking/schiaparelli_enhanced.tif/full.jpg',\n",
       " 'https://astropedia.astrogeology.usgs.gov/download/Mars/Viking/schiaparelli_enhanced.tif/full.jpg',\n",
       " 'https://astropedia.astrogeology.usgs.gov/download/Mars/Viking/syrtis_major_enhanced.tif/full.jpg',\n",
       " 'https://astropedia.astrogeology.usgs.gov/download/Mars/Viking/valles_marineris_enhanced.tif/full.jpg']"
      ]
     },
     "execution_count": 36,
     "metadata": {},
     "output_type": "execute_result"
    }
   ],
   "source": [
    "hemisphere_urls"
   ]
  },
  {
   "cell_type": "code",
   "execution_count": 37,
   "metadata": {},
   "outputs": [],
   "source": [
    "browser.quit()"
   ]
  },
  {
   "cell_type": "code",
   "execution_count": null,
   "metadata": {},
   "outputs": [],
   "source": []
  }
 ],
 "metadata": {
  "kernelspec": {
   "display_name": "Python 3",
   "language": "python",
   "name": "python3"
  },
  "language_info": {
   "codemirror_mode": {
    "name": "ipython",
    "version": 3
   },
   "file_extension": ".py",
   "mimetype": "text/x-python",
   "name": "python",
   "nbconvert_exporter": "python",
   "pygments_lexer": "ipython3",
   "version": "3.7.7"
  }
 },
 "nbformat": 4,
 "nbformat_minor": 4
}
